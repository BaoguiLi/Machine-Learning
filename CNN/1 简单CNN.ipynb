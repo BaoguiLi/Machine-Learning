{
 "cells": [
  {
   "cell_type": "markdown",
   "metadata": {},
   "source": [
    "# 简单CNN\n",
    "\n",
    "cnn层是一个特征提取器，能提取图像信息即可"
   ]
  },
  {
   "cell_type": "markdown",
   "metadata": {},
   "source": [
    "## 准备必要的库"
   ]
  },
  {
   "cell_type": "code",
   "execution_count": 12,
   "metadata": {},
   "outputs": [
    {
     "data": {
      "text/plain": [
       "<torch._C.Generator at 0x252b21aa610>"
      ]
     },
     "execution_count": 12,
     "metadata": {},
     "output_type": "execute_result"
    }
   ],
   "source": [
    "# -*- coding: utf-8 -*-\n",
    "# 导入PyTorch深度学习框架的核心库\n",
    "import torch\n",
    "# 用于计算机视觉任务的库，包含常用数据集、模型和图像变换工具\n",
    "import torchvision\n",
    "# 提供图像预处理和增强的工具\n",
    "import torchvision.transforms as transforms\n",
    "# 定义神经网络的模块\n",
    "import torch.nn as nn\n",
    "# 包含各种优化算法\n",
    "import torch.optim as optim\n",
    "# 用于绘制图表\n",
    "import matplotlib.pyplot as plt\n",
    "# 用于科学计算\n",
    "import numpy as np\n",
    "# 用于显示进度条\n",
    "from tqdm import tqdm\n",
    "# 用于打印模型的结构信息\n",
    "from torchsummary import summary\n",
    "\n",
    "# 设置随机种子保证可重复性\n",
    "torch.manual_seed(42)"
   ]
  },
  {
   "cell_type": "markdown",
   "metadata": {},
   "source": [
    "## 检查GPU是否可用"
   ]
  },
  {
   "cell_type": "code",
   "execution_count": 13,
   "metadata": {},
   "outputs": [
    {
     "name": "stdout",
     "output_type": "stream",
     "text": [
      "Using device: cuda:0\n"
     ]
    }
   ],
   "source": [
    "# 检查GPU可用性，如果有可用的GPU则使用第一个GPU（cuda:0），否则使用CPU\n",
    "device = torch.device(\"cuda:0\" if torch.cuda.is_available() else \"cpu\")\n",
    "print(f\"Using device: {device}\")"
   ]
  },
  {
   "cell_type": "markdown",
   "metadata": {},
   "source": [
    "## 1. 数据准备与预处理"
   ]
  },
  {
   "cell_type": "code",
   "execution_count": 14,
   "metadata": {},
   "outputs": [],
   "source": [
    "# 定义训练集的图像预处理和增强操作\n",
    "transform_train = transforms.Compose([\n",
    "    # 随机裁剪图像到32x32大小，先在图像周围填充4个像素\n",
    "    transforms.RandomCrop(32, padding=4),\n",
    "    # 随机水平翻转图像\n",
    "    transforms.RandomHorizontalFlip(),\n",
    "    # 将图像转换为张量\n",
    "    transforms.ToTensor(),\n",
    "    # 对图像进行归一化处理\n",
    "    transforms.Normalize((0.4914, 0.4822, 0.4465), (0.2023, 0.1994, 0.2010)),\n",
    "])\n",
    "\n",
    "# 定义测试集的图像预处理操作，只进行张量转换和归一化\n",
    "transform_test = transforms.Compose([\n",
    "    transforms.ToTensor(),\n",
    "    transforms.Normalize((0.4914, 0.4822, 0.4465), (0.2023, 0.1994, 0.2010)),\n",
    "])\n"
   ]
  },
  {
   "cell_type": "markdown",
   "metadata": {},
   "source": [
    "## 2. 数据加载"
   ]
  },
  {
   "cell_type": "code",
   "execution_count": null,
   "metadata": {},
   "outputs": [
    {
     "name": "stdout",
     "output_type": "stream",
     "text": [
      "Files already downloaded and verified\n",
      "Files already downloaded and verified\n"
     ]
    }
   ],
   "source": [
    "# 从torchvision中加载CIFAR - 10训练数据集\n",
    "trainset = torchvision.datasets.CIFAR10(\n",
    "    root='./data', train=True, download=True, transform=transform_train)\n",
    "# 创建训练集的数据加载器，每个批次包含128个样本，每个epoch开始时打乱数据，使用2个子进程进行数据加载\n",
    "trainloader = torch.utils.data.DataLoader(\n",
    "    trainset, batch_size=128, shuffle=True, num_workers=2)\n",
    "\n",
    "# 从torchvision中加载CIFAR - 10测试数据集\n",
    "testset = torchvision.datasets.CIFAR10(\n",
    "    root='./data', train=False, download=True, transform=transform_test)\n",
    "# 创建测试集的数据加载器，每个批次包含100个样本，不打乱数据，使用2个子进程进行数据加载\n",
    "testloader = torch.utils.data.DataLoader(\n",
    "    testset, batch_size=100, shuffle=False, num_workers=2)\n",
    "\n",
    "# 定义CIFAR - 10数据集中的10个类别\n",
    "classes = ('plane', 'car', 'bird', 'cat', 'deer',\n",
    "           'dog', 'frog', 'horse', 'ship', 'truck')"
   ]
  },
  {
   "cell_type": "markdown",
   "metadata": {},
   "source": [
    "## 3. 模型定义"
   ]
  },
  {
   "cell_type": "code",
   "execution_count": 16,
   "metadata": {},
   "outputs": [],
   "source": [
    "# 定义一个简单的卷积神经网络类，继承自nn.Module\n",
    "class SimpleCNN(nn.Module):\n",
    "    def __init__(self):\n",
    "        # 调用父类的构造函数\n",
    "        super(SimpleCNN, self).__init__()\n",
    "        # 定义特征提取部分，包含3个卷积层、ReLU激活函数和最大池化层\n",
    "        self.features = nn.Sequential(\n",
    "            # 输入通道数为3，输出通道数为32，卷积核大小为3，填充为1\n",
    "            nn.Conv2d(3, 32, 3, padding=1),\n",
    "            # ReLU激活函数\n",
    "            nn.ReLU(),\n",
    "            # 最大池化层，池化核大小为2，步长为2\n",
    "            nn.MaxPool2d(2, 2),\n",
    "            # 输入通道数为32，输出通道数为64，卷积核大小为3，填充为1\n",
    "            nn.Conv2d(32, 64, 3, padding=1),\n",
    "            nn.ReLU(),\n",
    "            nn.MaxPool2d(2, 2),\n",
    "            # 输入通道数为64，输出通道数为128，卷积核大小为3，填充为1\n",
    "            nn.Conv2d(64, 128, 3, padding=1),\n",
    "            nn.ReLU(),\n",
    "            nn.MaxPool2d(2, 2)\n",
    "        )\n",
    "        # 定义分类部分，包含一个全连接层、ReLU激活函数、Dropout层和一个输出层\n",
    "        self.classifier = nn.Sequential(\n",
    "            # 输入特征数为128 * 4 * 4，输出特征数为512\n",
    "            nn.Linear(128 * 4 * 4, 512),\n",
    "            nn.ReLU(),\n",
    "            # Dropout层，丢弃率为0.5，防止过拟合\n",
    "            nn.Dropout(0.5),\n",
    "            # 输入特征数为512，输出特征数为10（对应10个类别）\n",
    "            nn.Linear(512, 10)\n",
    "        )\n",
    "\n",
    "    def forward(self, x):\n",
    "        # 通过特征提取部分\n",
    "        x = self.features(x)\n",
    "        # 将输出展平\n",
    "        x = x.view(x.size(0), -1)\n",
    "        # 通过分类部分\n",
    "        x = self.classifier(x)\n",
    "        return x\n",
    "\n",
    "# 初始化模型\n",
    "model = SimpleCNN().to(device)"
   ]
  },
  {
   "cell_type": "code",
   "execution_count": 17,
   "metadata": {},
   "outputs": [
    {
     "name": "stdout",
     "output_type": "stream",
     "text": [
      "----------------------------------------------------------------\n",
      "        Layer (type)               Output Shape         Param #\n",
      "================================================================\n",
      "            Conv2d-1           [-1, 32, 32, 32]             896\n",
      "              ReLU-2           [-1, 32, 32, 32]               0\n",
      "         MaxPool2d-3           [-1, 32, 16, 16]               0\n",
      "            Conv2d-4           [-1, 64, 16, 16]          18,496\n",
      "              ReLU-5           [-1, 64, 16, 16]               0\n",
      "         MaxPool2d-6             [-1, 64, 8, 8]               0\n",
      "            Conv2d-7            [-1, 128, 8, 8]          73,856\n",
      "              ReLU-8            [-1, 128, 8, 8]               0\n",
      "         MaxPool2d-9            [-1, 128, 4, 4]               0\n",
      "           Linear-10                  [-1, 512]       1,049,088\n",
      "             ReLU-11                  [-1, 512]               0\n",
      "          Dropout-12                  [-1, 512]               0\n",
      "           Linear-13                   [-1, 10]           5,130\n",
      "================================================================\n",
      "Total params: 1,147,466\n",
      "Trainable params: 1,147,466\n",
      "Non-trainable params: 0\n",
      "----------------------------------------------------------------\n",
      "Input size (MB): 0.01\n",
      "Forward/backward pass size (MB): 1.00\n",
      "Params size (MB): 4.38\n",
      "Estimated Total Size (MB): 5.39\n",
      "----------------------------------------------------------------\n"
     ]
    }
   ],
   "source": [
    "# 打印模型的结构信息\n",
    "summary(model, (3, 32, 32))"
   ]
  },
  {
   "cell_type": "markdown",
   "metadata": {},
   "source": [
    "## 4. 训练模型\n",
    "\n",
    "验证阶段被放在每个 epoch 的循环之中，每完成一个 epoch 的训练，就会进行一次验证，从而实时掌握模型在验证集上的性能表现，依据验证结果对学习率加以调整。"
   ]
  },
  {
   "cell_type": "code",
   "execution_count": 18,
   "metadata": {},
   "outputs": [
    {
     "name": "stderr",
     "output_type": "stream",
     "text": [
      "Epoch 1/10: 100%|██████████| 391/391 [00:05<00:00, 71.81it/s] \n"
     ]
    },
    {
     "name": "stdout",
     "output_type": "stream",
     "text": [
      "Epoch [1/10], Train Loss: 1.6488, Train Acc: 39.02%, Val Loss: 1.2948, Val Acc: 52.94%\n"
     ]
    },
    {
     "name": "stderr",
     "output_type": "stream",
     "text": [
      "Epoch 2/10: 100%|██████████| 391/391 [00:04<00:00, 78.45it/s] \n"
     ]
    },
    {
     "name": "stdout",
     "output_type": "stream",
     "text": [
      "Epoch [2/10], Train Loss: 1.2747, Train Acc: 53.80%, Val Loss: 1.0687, Val Acc: 62.28%\n"
     ]
    },
    {
     "name": "stderr",
     "output_type": "stream",
     "text": [
      "Epoch 3/10: 100%|██████████| 391/391 [00:05<00:00, 76.98it/s] \n"
     ]
    },
    {
     "name": "stdout",
     "output_type": "stream",
     "text": [
      "Epoch [3/10], Train Loss: 1.1066, Train Acc: 60.83%, Val Loss: 0.9016, Val Acc: 68.05%\n"
     ]
    },
    {
     "name": "stderr",
     "output_type": "stream",
     "text": [
      "Epoch 4/10: 100%|██████████| 391/391 [00:05<00:00, 77.56it/s] \n"
     ]
    },
    {
     "name": "stdout",
     "output_type": "stream",
     "text": [
      "Epoch [4/10], Train Loss: 0.9902, Train Acc: 65.02%, Val Loss: 0.8259, Val Acc: 70.69%\n"
     ]
    },
    {
     "name": "stderr",
     "output_type": "stream",
     "text": [
      "Epoch 5/10: 100%|██████████| 391/391 [00:05<00:00, 78.05it/s] \n"
     ]
    },
    {
     "name": "stdout",
     "output_type": "stream",
     "text": [
      "Epoch [5/10], Train Loss: 0.9171, Train Acc: 67.68%, Val Loss: 0.8004, Val Acc: 71.96%\n"
     ]
    },
    {
     "name": "stderr",
     "output_type": "stream",
     "text": [
      "Epoch 6/10: 100%|██████████| 391/391 [00:05<00:00, 76.75it/s] \n"
     ]
    },
    {
     "name": "stdout",
     "output_type": "stream",
     "text": [
      "Epoch [6/10], Train Loss: 0.8598, Train Acc: 70.11%, Val Loss: 0.7514, Val Acc: 74.26%\n"
     ]
    },
    {
     "name": "stderr",
     "output_type": "stream",
     "text": [
      "Epoch 7/10: 100%|██████████| 391/391 [00:05<00:00, 74.26it/s] \n"
     ]
    },
    {
     "name": "stdout",
     "output_type": "stream",
     "text": [
      "Epoch [7/10], Train Loss: 0.8171, Train Acc: 71.40%, Val Loss: 0.7586, Val Acc: 73.56%\n"
     ]
    },
    {
     "name": "stderr",
     "output_type": "stream",
     "text": [
      "Epoch 8/10: 100%|██████████| 391/391 [00:05<00:00, 73.80it/s] \n"
     ]
    },
    {
     "name": "stdout",
     "output_type": "stream",
     "text": [
      "Epoch [8/10], Train Loss: 0.7833, Train Acc: 72.53%, Val Loss: 0.7110, Val Acc: 75.06%\n"
     ]
    },
    {
     "name": "stderr",
     "output_type": "stream",
     "text": [
      "Epoch 9/10: 100%|██████████| 391/391 [00:06<00:00, 59.89it/s] \n"
     ]
    },
    {
     "name": "stdout",
     "output_type": "stream",
     "text": [
      "Epoch [9/10], Train Loss: 0.7517, Train Acc: 73.71%, Val Loss: 0.7031, Val Acc: 75.96%\n"
     ]
    },
    {
     "name": "stderr",
     "output_type": "stream",
     "text": [
      "Epoch 10/10: 100%|██████████| 391/391 [00:06<00:00, 57.34it/s] \n"
     ]
    },
    {
     "name": "stdout",
     "output_type": "stream",
     "text": [
      "Epoch [10/10], Train Loss: 0.7323, Train Acc: 74.31%, Val Loss: 0.6648, Val Acc: 76.75%\n"
     ]
    }
   ],
   "source": [
    "# 分类问题使用交叉熵损失函数\n",
    "criterion = nn.CrossEntropyLoss()\n",
    "\n",
    "# 使用 Adam 优化器\n",
    "optimizer = optim.Adam(model.parameters(), lr=0.001, weight_decay=1e-4)\n",
    "\n",
    "# 学习率调度器\n",
    "scheduler = optim.lr_scheduler.ReduceLROnPlateau(optimizer, 'max', patience=3, factor=0.5)\n",
    "\n",
    "# 训练模型\n",
    "num_epochs = 10\n",
    "\n",
    "# 用于存储每个 epoch 的损失值和准确率\n",
    "train_losses = []\n",
    "train_accuracies = []\n",
    "val_losses = []\n",
    "val_accuracies = []\n",
    "\n",
    "for epoch in range(num_epochs):\n",
    "    running_loss = 0.0\n",
    "    correct = 0\n",
    "    total = 0\n",
    "    model.train()  # 设置模型为训练模式\n",
    "    for i, (images, labels) in enumerate(tqdm(trainloader, desc=f'Epoch {epoch + 1}/{num_epochs}')):\n",
    "        images, labels = images.to(device), labels.to(device)\n",
    "\n",
    "        # 前向传播\n",
    "        outputs = model(images)\n",
    "        loss = criterion(outputs, labels)\n",
    "\n",
    "        # 反向传播和优化\n",
    "        optimizer.zero_grad()\n",
    "        loss.backward()\n",
    "        optimizer.step()\n",
    "\n",
    "        running_loss += loss.item()\n",
    "        _, predicted = torch.max(outputs.data, 1)\n",
    "        total += labels.size(0)\n",
    "        correct += (predicted == labels).sum().item()\n",
    "\n",
    "    epoch_train_loss = running_loss / len(trainloader)\n",
    "    epoch_train_accuracy = 100 * correct / total\n",
    "    train_losses.append(epoch_train_loss)\n",
    "    train_accuracies.append(epoch_train_accuracy)\n",
    "        # 验证阶段\n",
    "    model.eval()  # 设置模型为评估模式\n",
    "    val_running_loss = 0.0\n",
    "    val_correct = 0\n",
    "    val_total = 0\n",
    "    with torch.no_grad():\n",
    "        for images, labels in testloader:\n",
    "            images, labels = images.to(device), labels.to(device)\n",
    "            outputs = model(images)\n",
    "            loss = criterion(outputs, labels)\n",
    "\n",
    "            val_running_loss += loss.item()\n",
    "            _, predicted = torch.max(outputs.data, 1)\n",
    "            val_total += labels.size(0)\n",
    "            val_correct += (predicted == labels).sum().item()\n",
    "\n",
    "    epoch_val_loss = val_running_loss / len(testloader)\n",
    "    epoch_val_accuracy = 100 * val_correct / val_total\n",
    "    val_losses.append(epoch_val_loss)\n",
    "    val_accuracies.append(epoch_val_accuracy)\n",
    "\n",
    "    # 根据验证准确率调整学习率\n",
    "    scheduler.step(epoch_val_accuracy)\n",
    "\n",
    "    # 打印训练信息\n",
    "    print(f'Epoch [{epoch + 1}/{num_epochs}], '\n",
    "            f'Train Loss: {epoch_train_loss:.4f}, Train Acc: {epoch_train_accuracy:.2f}%, '\n",
    "            f'Val Loss: {epoch_val_loss:.4f}, Val Acc: {epoch_val_accuracy:.2f}%')"
   ]
  },
  {
   "cell_type": "markdown",
   "metadata": {},
   "source": [
    "## 5. 评估模型"
   ]
  },
  {
   "cell_type": "code",
   "execution_count": 19,
   "metadata": {},
   "outputs": [
    {
     "name": "stdout",
     "output_type": "stream",
     "text": [
      "Epoch [10/10], Train Loss: 0.7323, Train Acc: 74.31%, Val Loss: 0.6648, Val Acc: 76.75%\n"
     ]
    }
   ],
   "source": [
    "# 验证阶段\n",
    "model.eval()  # 设置模型为评估模式\n",
    "val_running_loss = 0.0\n",
    "val_correct = 0\n",
    "val_total = 0\n",
    "with torch.no_grad():\n",
    "    for images, labels in testloader:\n",
    "        images, labels = images.to(device), labels.to(device)\n",
    "        outputs = model(images)\n",
    "        loss = criterion(outputs, labels)\n",
    "\n",
    "        val_running_loss += loss.item()\n",
    "        _, predicted = torch.max(outputs.data, 1)\n",
    "        val_total += labels.size(0)\n",
    "        val_correct += (predicted == labels).sum().item()\n",
    "\n",
    "epoch_val_loss = val_running_loss / len(testloader)\n",
    "epoch_val_accuracy = 100 * val_correct / val_total\n",
    "val_losses.append(epoch_val_loss)\n",
    "val_accuracies.append(epoch_val_accuracy)\n",
    "\n",
    "# 根据验证准确率调整学习率\n",
    "scheduler.step(epoch_val_accuracy)\n",
    "\n",
    "# 打印训练信息\n",
    "print(f'Epoch [{epoch + 1}/{num_epochs}], '\n",
    "        f'Train Loss: {epoch_train_loss:.4f}, Train Acc: {epoch_train_accuracy:.2f}%, '\n",
    "        f'Val Loss: {epoch_val_loss:.4f}, Val Acc: {epoch_val_accuracy:.2f}%')"
   ]
  },
  {
   "cell_type": "markdown",
   "metadata": {},
   "source": [
    "## 6. 可视化训练过程"
   ]
  },
  {
   "cell_type": "code",
   "execution_count": 20,
   "metadata": {},
   "outputs": [
    {
     "data": {
      "image/png": "[encoded data removed]",
      "text/plain": [
       "<Figure size 1200x500 with 2 Axes>"
      ]
     },
     "metadata": {},
     "output_type": "display_data"
    }
   ],
   "source": [
    "# 可视化训练过程\n",
    "plt.figure(figsize=(12, 5))\n",
    "plt.subplot(1, 2, 1)\n",
    "plt.plot(train_losses, label='Training Loss')\n",
    "plt.plot(val_losses, label='Validation Loss')\n",
    "plt.xlabel('Epoch')\n",
    "plt.ylabel('Loss')\n",
    "plt.legend()\n",
    "\n",
    "plt.subplot(1, 2, 2)\n",
    "plt.plot(train_accuracies, label='Training Accuracy')\n",
    "plt.plot(val_accuracies, label='Validation Accuracy')\n",
    "plt.xlabel('Epoch')\n",
    "plt.ylabel('Accuracy (%)')\n",
    "plt.legend()\n",
    "\n",
    "plt.show()"
   ]
  },
  {
   "cell_type": "markdown",
   "metadata": {},
   "source": [
    "## 了解下数据\n",
    "\n",
    "pytorch datasets官方文档：https://pytorch.org/vision/stable/datasets.html#cifar"
   ]
  },
  {
   "cell_type": "code",
   "execution_count": 21,
   "metadata": {},
   "outputs": [
    {
     "data": {
      "image/png": "[encoded data removed]",
      "text/plain": [
       "<Figure size 640x480 with 1 Axes>"
      ]
     },
     "metadata": {},
     "output_type": "display_data"
    },
    {
     "name": "stdout",
     "output_type": "stream",
     "text": [
      "frog  plane deer  car  \n"
     ]
    }
   ],
   "source": [
    "import torch\n",
    "import torchvision\n",
    "import torchvision.transforms as transforms\n",
    "import matplotlib.pyplot as plt\n",
    "import numpy as np\n",
    "\n",
    "# 设置随机种子保证可重复性\n",
    "torch.manual_seed(42)\n",
    "\n",
    "# 定义图像预处理操作，这里仅进行张量转换和归一化\n",
    "transform = transforms.Compose([\n",
    "    transforms.ToTensor(),\n",
    "    transforms.Normalize((0.5, 0.5, 0.5), (0.5, 0.5, 0.5))\n",
    "])\n",
    "\n",
    "# 加载 CIFAR - 10 训练数据集\n",
    "trainset = torchvision.datasets.CIFAR10(\n",
    "    root='./data', train=True, download=False, transform=transform)\n",
    "\n",
    "# 创建数据加载器，每个批次包含 4 个样本\n",
    "trainloader = torch.utils.data.DataLoader(\n",
    "    trainset, batch_size=4, shuffle=True, num_workers=2)\n",
    "\n",
    "# 定义类别名称，原始数据集中的类别编号为 0-9，这里定义对应的类别名称\n",
    "classes = ('plane', 'car', 'bird', 'cat',\n",
    "           'deer', 'dog', 'frog', 'horse', 'ship', 'truck')\n",
    "\n",
    "# 函数用于反归一化并显示图像\n",
    "def imshow(img):\n",
    "    img = img / 2 + 0.5  # 反归一化\n",
    "    npimg = img.numpy()\n",
    "    plt.imshow(np.transpose(npimg, (1, 2, 0)))\n",
    "    plt.show()\n",
    "\n",
    "# 获取一个批次的图像和标签\n",
    "dataiter = iter(trainloader)\n",
    "images, labels = next(dataiter)\n",
    "\n",
    "# 显示图像\n",
    "imshow(torchvision.utils.make_grid(images))\n",
    "\n",
    "# 打印标签\n",
    "print(' '.join(f'{classes[labels[j]]:5s}' for j in range(4)))"
   ]
  },
  {
   "cell_type": "code",
   "execution_count": 22,
   "metadata": {},
   "outputs": [
    {
     "name": "stdout",
     "output_type": "stream",
     "text": [
      "图像的形状: torch.Size([3, 32, 32])\n"
     ]
    }
   ],
   "source": [
    "# 获取数据集中的第一个样本\n",
    "image, label = trainset[0]\n",
    "# 显示图像\n",
    "# imshow(torchvision.utils.make_grid(image))\n",
    "# 打印图像的形状\n",
    "print(f\"图像的形状: {image.shape}\")"
   ]
  },
  {
   "cell_type": "markdown",
   "metadata": {},
   "source": [
    "CIFAR - 10 数据集中的图像尺寸是固定的，每张图像的尺寸为 32x32 像素，并且是彩色图像，具有 3 个颜色通道（红、绿、蓝），即图像的形状为 (3, 32, 32) ，这里的 3 代表通道数，32 和 32 分别代表图像的高度和宽度。"
   ]
  }
 ],
 "metadata": {
  "kernelspec": {
   "display_name": "yolov5",
   "language": "python",
   "name": "python3"
  },
  "language_info": {
   "codemirror_mode": {
    "name": "ipython",
    "version": 3
   },
   "file_extension": ".py",
   "mimetype": "text/x-python",
   "name": "python",
   "nbconvert_exporter": "python",
   "pygments_lexer": "ipython3",
   "version": "3.8.20"
  }
 },
 "nbformat": 4,
 "nbformat_minor": 2
}
